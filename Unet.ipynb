{
  "nbformat": 4,
  "nbformat_minor": 0,
  "metadata": {
    "colab": {
      "name": "Unet.ipynb",
      "provenance": [],
      "collapsed_sections": [],
      "authorship_tag": "ABX9TyMq21mPA/0UOHAx4FYxKm4F",
      "include_colab_link": true
    },
    "kernelspec": {
      "name": "python3",
      "display_name": "Python 3"
    },
    "language_info": {
      "name": "python"
    },
    "widgets": {
      "application/vnd.jupyter.widget-state+json": {
        "a262ce56f67e4939b26e5fbf7a7013ba": {
          "model_module": "@jupyter-widgets/controls",
          "model_name": "VBoxModel",
          "model_module_version": "1.5.0",
          "state": {
            "_view_name": "VBoxView",
            "_dom_classes": [],
            "_model_name": "VBoxModel",
            "_view_module": "@jupyter-widgets/controls",
            "_model_module_version": "1.5.0",
            "_view_count": null,
            "_view_module_version": "1.5.0",
            "box_style": "",
            "layout": "IPY_MODEL_12432562444f4719b4842ae0e9043fb9",
            "_model_module": "@jupyter-widgets/controls",
            "children": [
              "IPY_MODEL_073dcf70f14b43da8f09cb709e294a36",
              "IPY_MODEL_e6b76a690e69496d8cb2f8da8875843f"
            ]
          }
        },
        "12432562444f4719b4842ae0e9043fb9": {
          "model_module": "@jupyter-widgets/base",
          "model_name": "LayoutModel",
          "model_module_version": "1.2.0",
          "state": {
            "_view_name": "LayoutView",
            "grid_template_rows": null,
            "right": null,
            "justify_content": null,
            "_view_module": "@jupyter-widgets/base",
            "overflow": null,
            "_model_module_version": "1.2.0",
            "_view_count": null,
            "flex_flow": null,
            "width": null,
            "min_width": null,
            "border": null,
            "align_items": null,
            "bottom": null,
            "_model_module": "@jupyter-widgets/base",
            "top": null,
            "grid_column": null,
            "overflow_y": null,
            "overflow_x": null,
            "grid_auto_flow": null,
            "grid_area": null,
            "grid_template_columns": null,
            "flex": null,
            "_model_name": "LayoutModel",
            "justify_items": null,
            "grid_row": null,
            "max_height": null,
            "align_content": null,
            "visibility": null,
            "align_self": null,
            "height": null,
            "min_height": null,
            "padding": null,
            "grid_auto_rows": null,
            "grid_gap": null,
            "max_width": null,
            "order": null,
            "_view_module_version": "1.2.0",
            "grid_template_areas": null,
            "object_position": null,
            "object_fit": null,
            "grid_auto_columns": null,
            "margin": null,
            "display": null,
            "left": null
          }
        },
        "073dcf70f14b43da8f09cb709e294a36": {
          "model_module": "@jupyter-widgets/controls",
          "model_name": "LabelModel",
          "model_module_version": "1.5.0",
          "state": {
            "_view_name": "LabelView",
            "style": "IPY_MODEL_b7df75982a9c4a558281aa1e540682e0",
            "_dom_classes": [],
            "description": "",
            "_model_name": "LabelModel",
            "placeholder": "​",
            "_view_module": "@jupyter-widgets/controls",
            "_model_module_version": "1.5.0",
            "value": " 0.01MB of 0.01MB uploaded (0.00MB deduped)\r",
            "_view_count": null,
            "_view_module_version": "1.5.0",
            "description_tooltip": null,
            "_model_module": "@jupyter-widgets/controls",
            "layout": "IPY_MODEL_8b8031da4f1946eba20bdeae6561784f"
          }
        },
        "e6b76a690e69496d8cb2f8da8875843f": {
          "model_module": "@jupyter-widgets/controls",
          "model_name": "FloatProgressModel",
          "model_module_version": "1.5.0",
          "state": {
            "_view_name": "ProgressView",
            "style": "IPY_MODEL_305b255a3dd44965ad5bed95465ddca3",
            "_dom_classes": [],
            "description": "",
            "_model_name": "FloatProgressModel",
            "bar_style": "",
            "max": 1,
            "_view_module": "@jupyter-widgets/controls",
            "_model_module_version": "1.5.0",
            "value": 1,
            "_view_count": null,
            "_view_module_version": "1.5.0",
            "orientation": "horizontal",
            "min": 0,
            "description_tooltip": null,
            "_model_module": "@jupyter-widgets/controls",
            "layout": "IPY_MODEL_c467e519381744bdb6d1771bec500c40"
          }
        },
        "b7df75982a9c4a558281aa1e540682e0": {
          "model_module": "@jupyter-widgets/controls",
          "model_name": "DescriptionStyleModel",
          "model_module_version": "1.5.0",
          "state": {
            "_view_name": "StyleView",
            "_model_name": "DescriptionStyleModel",
            "description_width": "",
            "_view_module": "@jupyter-widgets/base",
            "_model_module_version": "1.5.0",
            "_view_count": null,
            "_view_module_version": "1.2.0",
            "_model_module": "@jupyter-widgets/controls"
          }
        },
        "8b8031da4f1946eba20bdeae6561784f": {
          "model_module": "@jupyter-widgets/base",
          "model_name": "LayoutModel",
          "model_module_version": "1.2.0",
          "state": {
            "_view_name": "LayoutView",
            "grid_template_rows": null,
            "right": null,
            "justify_content": null,
            "_view_module": "@jupyter-widgets/base",
            "overflow": null,
            "_model_module_version": "1.2.0",
            "_view_count": null,
            "flex_flow": null,
            "width": null,
            "min_width": null,
            "border": null,
            "align_items": null,
            "bottom": null,
            "_model_module": "@jupyter-widgets/base",
            "top": null,
            "grid_column": null,
            "overflow_y": null,
            "overflow_x": null,
            "grid_auto_flow": null,
            "grid_area": null,
            "grid_template_columns": null,
            "flex": null,
            "_model_name": "LayoutModel",
            "justify_items": null,
            "grid_row": null,
            "max_height": null,
            "align_content": null,
            "visibility": null,
            "align_self": null,
            "height": null,
            "min_height": null,
            "padding": null,
            "grid_auto_rows": null,
            "grid_gap": null,
            "max_width": null,
            "order": null,
            "_view_module_version": "1.2.0",
            "grid_template_areas": null,
            "object_position": null,
            "object_fit": null,
            "grid_auto_columns": null,
            "margin": null,
            "display": null,
            "left": null
          }
        },
        "305b255a3dd44965ad5bed95465ddca3": {
          "model_module": "@jupyter-widgets/controls",
          "model_name": "ProgressStyleModel",
          "model_module_version": "1.5.0",
          "state": {
            "_view_name": "StyleView",
            "_model_name": "ProgressStyleModel",
            "description_width": "",
            "_view_module": "@jupyter-widgets/base",
            "_model_module_version": "1.5.0",
            "_view_count": null,
            "_view_module_version": "1.2.0",
            "bar_color": null,
            "_model_module": "@jupyter-widgets/controls"
          }
        },
        "c467e519381744bdb6d1771bec500c40": {
          "model_module": "@jupyter-widgets/base",
          "model_name": "LayoutModel",
          "model_module_version": "1.2.0",
          "state": {
            "_view_name": "LayoutView",
            "grid_template_rows": null,
            "right": null,
            "justify_content": null,
            "_view_module": "@jupyter-widgets/base",
            "overflow": null,
            "_model_module_version": "1.2.0",
            "_view_count": null,
            "flex_flow": null,
            "width": null,
            "min_width": null,
            "border": null,
            "align_items": null,
            "bottom": null,
            "_model_module": "@jupyter-widgets/base",
            "top": null,
            "grid_column": null,
            "overflow_y": null,
            "overflow_x": null,
            "grid_auto_flow": null,
            "grid_area": null,
            "grid_template_columns": null,
            "flex": null,
            "_model_name": "LayoutModel",
            "justify_items": null,
            "grid_row": null,
            "max_height": null,
            "align_content": null,
            "visibility": null,
            "align_self": null,
            "height": null,
            "min_height": null,
            "padding": null,
            "grid_auto_rows": null,
            "grid_gap": null,
            "max_width": null,
            "order": null,
            "_view_module_version": "1.2.0",
            "grid_template_areas": null,
            "object_position": null,
            "object_fit": null,
            "grid_auto_columns": null,
            "margin": null,
            "display": null,
            "left": null
          }
        }
      }
    },
    "accelerator": "GPU"
  },
  "cells": [
    {
      "cell_type": "markdown",
      "metadata": {
        "id": "view-in-github",
        "colab_type": "text"
      },
      "source": [
        "<a href=\"https://colab.research.google.com/github/mehdi-nait/Heart-Failure-Symptomes-detection/blob/master/Unet.ipynb\" target=\"_parent\"><img src=\"https://colab.research.google.com/assets/colab-badge.svg\" alt=\"Open In Colab\"/></a>"
      ]
    },
    {
      "cell_type": "markdown",
      "source": [
        "cloning the github repo cotaining the dataset"
      ],
      "metadata": {
        "id": "-XZZTsu2wkWk"
      }
    },
    {
      "cell_type": "code",
      "execution_count": 1,
      "metadata": {
        "id": "-zV4TimLclYC",
        "colab": {
          "base_uri": "https://localhost:8080/"
        },
        "outputId": "9158bb47-c2d7-42ab-e086-5dc28ddeed6e"
      },
      "outputs": [
        {
          "output_type": "stream",
          "name": "stdout",
          "text": [
            "Cloning into 'Heart-Failure-Symptomes-detection'...\n",
            "remote: Enumerating objects: 3374, done.\u001b[K\n",
            "remote: Counting objects: 100% (3374/3374), done.\u001b[K\n",
            "remote: Compressing objects: 100% (3338/3338), done.\u001b[K\n",
            "remote: Total 3374 (delta 44), reused 3351 (delta 34), pack-reused 0\u001b[K\n",
            "Receiving objects: 100% (3374/3374), 57.27 MiB | 27.90 MiB/s, done.\n",
            "Resolving deltas: 100% (44/44), done.\n"
          ]
        }
      ],
      "source": [
        "!git clone https://github.com/mehdi-nait/Heart-Failure-Symptomes-detection.git"
      ]
    },
    {
      "cell_type": "code",
      "source": [
        "cp -r Heart-Failure-Symptomes-detection/Data Data"
      ],
      "metadata": {
        "id": "xfnTrvVctJiD"
      },
      "execution_count": 2,
      "outputs": []
    },
    {
      "cell_type": "code",
      "source": [
        "import torch\n",
        "from torch import nn\n",
        "import torch.nn.functional as F\n",
        "from torchvision import transforms\n",
        "from torch.utils.data import Dataset\n",
        "import numpy as np\n",
        "import cv2\n",
        "import os\n",
        "import time\n",
        "import matplotlib.pyplot as plt\n",
        "from torch.utils.data import DataLoader\n",
        "from tqdm import tqdm\n",
        "!pip install wandb\n",
        "import wandb\n",
        "\n",
        "#fixing the seed for reproductible results\n",
        "random_seed = 1\n",
        "torch.manual_seed(random_seed)"
      ],
      "metadata": {
        "id": "lMozfDdcp4ok",
        "colab": {
          "base_uri": "https://localhost:8080/"
        },
        "outputId": "6457f6bc-bf6f-4d5c-dfa0-0bd850fd32c6"
      },
      "execution_count": 3,
      "outputs": [
        {
          "output_type": "stream",
          "name": "stdout",
          "text": [
            "Installing collected packages: smmap, gitdb, yaspin, subprocess32, shortuuid, sentry-sdk, pathtools, GitPython, docker-pycreds, configparser, wandb\n",
            "Successfully installed GitPython-3.1.26 configparser-5.2.0 docker-pycreds-0.4.0 gitdb-4.0.9 pathtools-0.1.2 sentry-sdk-1.5.3 shortuuid-1.0.8 smmap-5.0.0 subprocess32-3.5.4 wandb-0.12.9 yaspin-2.1.0\n"
          ]
        },
        {
          "output_type": "execute_result",
          "data": {
            "text/plain": [
              "<torch._C.Generator at 0x7f462d85d8f0>"
            ]
          },
          "metadata": {},
          "execution_count": 3
        }
      ]
    },
    {
      "cell_type": "markdown",
      "source": [
        "logging into wandb to track experiments"
      ],
      "metadata": {
        "id": "_znaMQ8ZwvfY"
      }
    },
    {
      "cell_type": "code",
      "source": [
        "!wandb login"
      ],
      "metadata": {
        "colab": {
          "base_uri": "https://localhost:8080/"
        },
        "id": "Fb4vCGU8Slsh",
        "outputId": "0eeb3591-f51c-4915-9e94-72c55b582aaf"
      },
      "execution_count": 5,
      "outputs": [
        {
          "output_type": "stream",
          "name": "stdout",
          "text": [
            "\u001b[34m\u001b[1mwandb\u001b[0m: You can find your API key in your browser here: https://wandb.ai/authorize\n",
            "\u001b[34m\u001b[1mwandb\u001b[0m: Paste an API key from your profile and hit enter, or press ctrl+c to quit: \n",
            "\u001b[34m\u001b[1mwandb\u001b[0m: Appending key for api.wandb.ai to your netrc file: /root/.netrc\n"
          ]
        }
      ]
    },
    {
      "cell_type": "code",
      "source": [
        "device = \"cuda\" if torch.cuda.is_available() else \"cpu\""
      ],
      "metadata": {
        "id": "pcIu_g1jxWUk"
      },
      "execution_count": 6,
      "outputs": []
    },
    {
      "cell_type": "markdown",
      "source": [
        "# Constructing Dataset class"
      ],
      "metadata": {
        "id": "zGCfRIbqw2-j"
      }
    },
    {
      "cell_type": "code",
      "source": [
        "class Dataset_seg(Dataset):\n",
        "    \"\"\"A class used to represent the dataset\n",
        "    \n",
        "    Attributes\n",
        "    ----------\n",
        "\n",
        "    images : list(str)\n",
        "        a list of image paths \n",
        "    labels : list(str)\n",
        "        list of labels paths\n",
        "    size_img : tuple(int,int)\n",
        "        image and label size\n",
        "    transform : function\n",
        "        transformation to be applied on the images/labels\n",
        "    \n",
        "    Methods\n",
        "    -------\n",
        "    __init__(self,image_dir,label_dir,transform = None)\n",
        "        instanciates the dataset object\n",
        "    __len__(self)\n",
        "        returns the length of the dataset\n",
        "    __getitem__(self,idx)\n",
        "        returns a image,label matrices couple after transforamations\n",
        "\n",
        "    \"\"\"\n",
        "    \n",
        "    def __init__(self,image_dir,label_dir,transform = None):\n",
        "\n",
        "        \n",
        "        self.images = os.listdir(image_dir)\n",
        "        self.images = [image_dir+x for x in self.images]\n",
        "        \n",
        "        self.labels = os.listdir(label_dir)\n",
        "        self.labels = [label_dir+x for x in self.labels]\n",
        "        self.transform = transform\n",
        "        self.size_img = (256,256)\n",
        "        \n",
        "    def __len__(self):\n",
        "\n",
        "        return len(self.images)\n",
        "    \n",
        "    def __getitem__(self,idx):\n",
        "\n",
        "        image = cv2.imread(self.images[idx], cv2.IMREAD_GRAYSCALE)\n",
        "        label = cv2.imread(self.labels[idx], cv2.IMREAD_GRAYSCALE)\n",
        "        \n",
        "        image = cv2.resize(image,self.size_img)\n",
        "        label = cv2.resize(label,self.size_img)\n",
        "\n",
        "        if self.transform:\n",
        "            image = self.transform(image)\n",
        "            label = self.transform(label)\n",
        "        \n",
        "        image = image.to(device)\n",
        "        label = label.to(device)\n",
        "        return image,label\n",
        "        \n",
        "        "
      ],
      "metadata": {
        "id": "Pd9BnFVwpw3D"
      },
      "execution_count": 7,
      "outputs": []
    },
    {
      "cell_type": "markdown",
      "source": [
        "To do : Elastic transformations data augmentation"
      ],
      "metadata": {
        "id": "hIw_-X6Xxbrr"
      }
    },
    {
      "cell_type": "markdown",
      "source": [
        "# Building U-Net Model"
      ],
      "metadata": {
        "id": "8HZCtqy4xiyx"
      }
    },
    {
      "cell_type": "markdown",
      "source": [
        "Inspired from O. Ronneberger, P. Fischer, and T. Brox, “U-net: Convolutional networks for biomedical \n",
        "image segmentation,” "
      ],
      "metadata": {
        "id": "0RjDn2h9xmqC"
      }
    },
    {
      "cell_type": "code",
      "source": [
        "class Block(nn.Module):\n",
        "  \"\"\"\"\"\"\n",
        "\n",
        "  def __init__(self,in_channels,out_channels):\n",
        "    \n",
        "    super(Block,self).__init__()\n",
        "\n",
        "    self.conv1 = nn.Conv2d(in_channels,out_channels,kernel_size=3)\n",
        "    self.relu  = nn.ReLU()\n",
        "    self.batch_norm = nn.BatchNorm2d(out_channels)\n",
        "    self.conv2 = nn.Conv2d(out_channels,out_channels,kernel_size=3)\n",
        "    \n",
        "\n",
        "  def forward(self,x):\n",
        "    \n",
        "    x = self.conv1(x)\n",
        "    x = self.relu(x)\n",
        "    x = self.batch_norm(x)\n",
        "    x = self.conv2(x)\n",
        "    x = self.relu(x)\n",
        "    x = self.batch_norm(x)\n",
        "    return x"
      ],
      "metadata": {
        "id": "m6wB_orLqBRM"
      },
      "execution_count": 8,
      "outputs": []
    },
    {
      "cell_type": "code",
      "source": [
        "class Encoder(nn.Module):\n",
        "\n",
        "  def __init__(self,channels = (1,16,32,64)):\n",
        "    super(Encoder,self).__init__()\n",
        "\n",
        "    self.encode_blocks = nn.ModuleList(Block(channels[i],channels[i+1]) for i in range(len(channels)-1))\n",
        "    self.pooling = nn.MaxPool2d(2,2)\n",
        "\n",
        "  def forward(self,x):\n",
        "\n",
        "    outputs = []\n",
        "\n",
        "    for block in self.encode_blocks:\n",
        "\n",
        "      x = block(x)\n",
        "      outputs.append(x)\n",
        "      x = self.pooling(x)\n",
        "\n",
        "    return outputs"
      ],
      "metadata": {
        "id": "3nj2erzprBri"
      },
      "execution_count": 9,
      "outputs": []
    },
    {
      "cell_type": "code",
      "source": [
        "class Decoder(nn.Module):\n",
        "\n",
        "  def __init__(self,channels = (64,32,16)):\n",
        "\n",
        "    super(Decoder,self).__init__()\n",
        "\n",
        "    self.channels = channels\n",
        "    self.up_convs  = nn.ModuleList(nn.ConvTranspose2d(channels[i],channels[i+1],2,2) for i in range(len(channels)-1))\n",
        "    self.dec_blocks = nn.ModuleList(Block(channels[i],channels[i+1]) for i in range(len(channels)-1))\n",
        "    self.batch_norms = nn.ModuleList(nn.BatchNorm2d(channels[i+1]) for i in range(len(channels)-1))\n",
        "\n",
        "  def forward(self,x,enc_features):\n",
        "\n",
        "    for i in range(len(self.channels)-1):\n",
        "      \n",
        "      x = self.up_convs[i](x)\n",
        "      x = self.batch_norms[i](x)\n",
        "      enc_feature = self.copy_crop(enc_features[i],x)\n",
        "      x = torch.cat((enc_feature,x),dim=1)\n",
        "      x = self.dec_blocks[i](x)\n",
        "\n",
        "    \n",
        "    return x\n",
        "\n",
        "\n",
        "  def copy_crop(self,feature,x):\n",
        "\n",
        "    _,_,H,W = x.shape\n",
        "    cropped_feature = transforms.CenterCrop([H,W])(feature)\n",
        "    return cropped_feature"
      ],
      "metadata": {
        "id": "PtDJ1aVbtd2H"
      },
      "execution_count": 10,
      "outputs": []
    },
    {
      "cell_type": "code",
      "source": [
        "class Unet(nn.Module):\n",
        "\n",
        "  def __init__(self, enc_channels = (1,16,32,64), dec_channels = (64,32,16),nb_classes = 1, retainDim = True, out_size=(256,256)):\n",
        "    super(Unet,self).__init__()\n",
        "\n",
        "    self.encoder = Encoder(enc_channels)\n",
        "    self.decoder = Decoder(dec_channels)\n",
        "    \n",
        "    self.head = nn.Conv2d(dec_channels[-1], nb_classes, 1)\n",
        "    self.retainDim = retainDim\n",
        "    self.outSize = out_size\n",
        "    \n",
        "\n",
        "  \n",
        "  def forward(self,x):\n",
        "\n",
        "    enc_features = self.encoder(x)\n",
        "\n",
        "    dec_features = self.decoder(enc_features[::-1][0],enc_features[::-1][1:])\n",
        "\t\t\n",
        "    map = self.head(dec_features)\n",
        "    \n",
        "    if self.retainDim:\n",
        "      map = F.interpolate(map, self.outSize)\n",
        "    \n",
        "  \n",
        "    return map"
      ],
      "metadata": {
        "id": "0Ov8KVY1rta4"
      },
      "execution_count": 11,
      "outputs": []
    },
    {
      "cell_type": "markdown",
      "source": [
        "# Defining training metrics (loss & accuracy mesurement)"
      ],
      "metadata": {
        "id": "zCfouvNOxsYL"
      }
    },
    {
      "cell_type": "markdown",
      "source": [
        "Here, we're using a Sigmoid Binary Cross Entropy loss function combined with dice loss, which yielded better results for dataset"
      ],
      "metadata": {
        "id": "u1fPtdAfxwo8"
      }
    },
    {
      "cell_type": "code",
      "source": [
        "class SoftDiceLoss(nn.Module):\n",
        "  \n",
        "    def __init__(self, weight=None, size_average=True):\n",
        "        super(SoftDiceLoss, self).__init__()\n",
        "\n",
        "    def forward(self, logits, targets):\n",
        "        smooth = 1\n",
        "        num = targets.size(0)\n",
        "        probs = torch.sigmoid(logits)\n",
        "        m1 = probs.view(num, -1)\n",
        "        m2 = targets.view(num, -1)\n",
        "        intersection = (m1 * m2)\n",
        "\n",
        "        score = 2. * (intersection.sum(1) + smooth) / (m1.sum(1) + m2.sum(1) + smooth)\n",
        "        score = 1 - score.sum() / num\n",
        "        return score"
      ],
      "metadata": {
        "id": "HNagCtZnclkU"
      },
      "execution_count": 12,
      "outputs": []
    },
    {
      "cell_type": "code",
      "source": [
        "class BCE_DiceLoss(nn.Module):\n",
        "  def __init__(self,weight = None,size_average = True):\n",
        "    super(BCE_DiceLoss,self).__init__()\n",
        "    \n",
        "  def forward(self,logits,targets):\n",
        "    bce = nn.BCEWithLogitsLoss()\n",
        "    dice_loss = SoftDiceLoss()\n",
        "    return bce(logits, targets) + dice_loss(logits, targets)\n",
        "    "
      ],
      "metadata": {
        "id": "cQf4tNI-baRm"
      },
      "execution_count": 13,
      "outputs": []
    },
    {
      "cell_type": "markdown",
      "source": [
        "Defining accuracy mesurement metrics, namely Dice coefficient and jaccard's index (Intersection over Union)"
      ],
      "metadata": {
        "id": "8U2BtsZ5yaO9"
      }
    },
    {
      "cell_type": "code",
      "source": [
        "def dice_metric(output,label):\n",
        "\n",
        "  intersection = 2.0* (output*label).sum()\n",
        "  union = output.sum()+label.sum()\n",
        "\n",
        "  if output.sum()==0 and label.sum()==0:\n",
        "    return  1\n",
        "  \n",
        "  return intersection/union"
      ],
      "metadata": {
        "id": "vCPclhalr8-M"
      },
      "execution_count": 14,
      "outputs": []
    },
    {
      "cell_type": "code",
      "source": [
        "def IoU_metric(output,label):\n",
        "  \n",
        "  intersection = (output*label).sum()\n",
        "  union = output.sum()+label.sum() - intersection\n",
        "\n",
        "  if output.sum()==0 and label.sum()==0:\n",
        "    return  1\n",
        "  \n",
        "  return intersection/union"
      ],
      "metadata": {
        "id": "kZcjrCFLvLza"
      },
      "execution_count": 15,
      "outputs": []
    },
    {
      "cell_type": "markdown",
      "source": [
        "# Data preparation, and model training"
      ],
      "metadata": {
        "id": "v0f4RsDpyN2r"
      }
    },
    {
      "cell_type": "code",
      "source": [
        "EPOCHS = 20 \n",
        "BATCH_SIZE = 5\n",
        "LR = 0.01\n",
        "MOMENTUM = 0.99\n",
        "ENC_CHANNELS = (1,128,256,512) \n",
        "DEC_CHANNELS = (512,256,128)"
      ],
      "metadata": {
        "id": "Dujv3cCVzfNz"
      },
      "execution_count": 27,
      "outputs": []
    },
    {
      "cell_type": "code",
      "source": [
        "train_dir = \"Data/Dataset/Train/\"\n",
        "valid_dir = \"Data/Dataset/Test/\"\n",
        "\n",
        "\n",
        "train_dataset = Dataset_seg(train_dir+\"/Images/\",train_dir+\"/Labels/\",transforms.ToTensor())\n",
        "valid_dataset = Dataset_seg(valid_dir+\"/Images/\",valid_dir+\"/Labels/\",transforms.ToTensor())\n",
        "\n",
        "valid_dataloader = DataLoader(valid_dataset, batch_size = BATCH_SIZE, shuffle = True)\n",
        "train_dataloader = DataLoader(train_dataset, batch_size = BATCH_SIZE, shuffle = True)\n"
      ],
      "metadata": {
        "id": "HLrJSv50YDXV"
      },
      "execution_count": 28,
      "outputs": []
    },
    {
      "cell_type": "code",
      "source": [
        "model = Unet(enc_channels=ENC_CHANNELS, dec_channels=DEC_CHANNELS)\n",
        "loss_function = BCE_DiceLoss()\n",
        "\n",
        "optimizer = torch.optim.SGD(model.parameters(), lr = LR, momentum = MOMENTUM)\n",
        "\n",
        "# initialize a dictionary to store training history\n",
        "H = {\"train_loss\": [], \"valid_loss\": [], \"train_dice\": [], \"train_IoU\": [], \"valid_dice\": [], \"valid_IoU\": []}"
      ],
      "metadata": {
        "id": "bnL-bEl13kgm"
      },
      "execution_count": 29,
      "outputs": []
    },
    {
      "cell_type": "markdown",
      "source": [
        "Storing Training configuration in logging interface (wandb)"
      ],
      "metadata": {
        "id": "W-exTah2y2ce"
      }
    },
    {
      "cell_type": "code",
      "source": [
        "wandb.config = {\n",
        "  \"Loss_function\" : \"BCE_DiceLoss\",\n",
        "  \"Optimizer\" : \"SGD\",\n",
        "  \"Learning_rate\": LR,\n",
        "  \"Momentum\":MOMENTUM,\n",
        "  \"Image_Size\" : 256,\n",
        "  \"encoder layers\":ENC_CHANNELS,\n",
        "  \"decoder layers\":DEC_CHANNELS,\n",
        "  \"Epochs\": EPOCHS,\n",
        "  \"Batch_size\": BATCH_SIZE,\n",
        "  \"Device\" : device\n",
        "}\n",
        "\n",
        "wandb.init(config=wandb.config,project=\"U-Net\", entity=\"mehdi-nait\")\n"
      ],
      "metadata": {
        "colab": {
          "base_uri": "https://localhost:8080/",
          "height": 197,
          "referenced_widgets": [
            "a262ce56f67e4939b26e5fbf7a7013ba",
            "12432562444f4719b4842ae0e9043fb9",
            "073dcf70f14b43da8f09cb709e294a36",
            "e6b76a690e69496d8cb2f8da8875843f",
            "b7df75982a9c4a558281aa1e540682e0",
            "8b8031da4f1946eba20bdeae6561784f",
            "305b255a3dd44965ad5bed95465ddca3",
            "c467e519381744bdb6d1771bec500c40"
          ]
        },
        "id": "OgJaCFLya55x",
        "outputId": "63047e0e-7f33-4fb3-ff9f-2c184014e291"
      },
      "execution_count": 30,
      "outputs": [
        {
          "output_type": "display_data",
          "data": {
            "text/html": [
              "Finishing last run (ID:5uy87a2u) before initializing another..."
            ],
            "text/plain": [
              "<IPython.core.display.HTML object>"
            ]
          },
          "metadata": {}
        },
        {
          "output_type": "display_data",
          "data": {
            "text/html": [
              "<br/>Waiting for W&B process to finish, PID 185... <strong style=\"color:green\">(success).</strong>"
            ],
            "text/plain": [
              "<IPython.core.display.HTML object>"
            ]
          },
          "metadata": {}
        },
        {
          "output_type": "display_data",
          "data": {
            "application/vnd.jupyter.widget-view+json": {
              "model_id": "a262ce56f67e4939b26e5fbf7a7013ba",
              "version_minor": 0,
              "version_major": 2
            },
            "text/plain": [
              "VBox(children=(Label(value=' 0.00MB of 0.00MB uploaded (0.00MB deduped)\\r'), FloatProgress(value=1.0, max=1.0)…"
            ]
          },
          "metadata": {}
        },
        {
          "output_type": "display_data",
          "data": {
            "text/html": [
              "<style>\n",
              "    table.wandb td:nth-child(1) { padding: 0 10px; text-align: right }\n",
              "    .wandb-row { display: flex; flex-direction: row; flex-wrap: wrap; width: 100% }\n",
              "    .wandb-col { display: flex; flex-direction: column; flex-basis: 100%; flex: 1; padding: 10px; }\n",
              "    </style>\n",
              "<div class=\"wandb-row\"><div class=\"wandb-col\">\n",
              "</div><div class=\"wandb-col\">\n",
              "</div></div>\n",
              "Synced 5 W&B file(s), 0 media file(s), 0 artifact file(s) and 0 other file(s)\n",
              "<br/>Synced <strong style=\"color:#cdcd00\">colorful-vortex-99</strong>: <a href=\"https://wandb.ai/mehdi-nait/U-Net/runs/5uy87a2u\" target=\"_blank\">https://wandb.ai/mehdi-nait/U-Net/runs/5uy87a2u</a><br/>\n",
              "Find logs at: <code>./wandb/run-20220122_152352-5uy87a2u/logs</code><br/>\n"
            ],
            "text/plain": [
              "<IPython.core.display.HTML object>"
            ]
          },
          "metadata": {}
        },
        {
          "output_type": "display_data",
          "data": {
            "text/html": [
              "Successfully finished last run (ID:5uy87a2u). Initializing new run:<br/>"
            ],
            "text/plain": [
              "<IPython.core.display.HTML object>"
            ]
          },
          "metadata": {}
        },
        {
          "output_type": "display_data",
          "data": {
            "text/html": [
              "\n",
              "                    Syncing run <strong><a href=\"https://wandb.ai/mehdi-nait/U-Net/runs/6m2vnwco\" target=\"_blank\">likely-sea-100</a></strong> to <a href=\"https://wandb.ai/mehdi-nait/U-Net\" target=\"_blank\">Weights & Biases</a> (<a href=\"https://docs.wandb.com/integrations/jupyter.html\" target=\"_blank\">docs</a>).<br/>\n",
              "\n",
              "                "
            ],
            "text/plain": [
              "<IPython.core.display.HTML object>"
            ]
          },
          "metadata": {}
        },
        {
          "output_type": "execute_result",
          "data": {
            "text/plain": [
              "<wandb.sdk.wandb_run.Run at 0x7f461415e090>"
            ],
            "text/html": [
              "<button onClick=\"this.nextSibling.style.display='block';this.style.display='none';\">Display W&B run</button><iframe src=\"https://wandb.ai/mehdi-nait/U-Net/runs/6m2vnwco?jupyter=true\" style=\"border:none;width:100%;height:420px;display:none;\"></iframe>"
            ]
          },
          "metadata": {},
          "execution_count": 30
        }
      ]
    },
    {
      "cell_type": "code",
      "source": [
        "NUM_EPOCHS = wandb.config[\"Epochs\"]\n",
        "\n",
        "print(\"[INFO] training in progress ...\")\n",
        "\n",
        "start_time = time.time()\n",
        "\n",
        "model = model.to(device)\n",
        "\n",
        "for e in tqdm(range(NUM_EPOCHS)):\n",
        "\n",
        "  model.train()\n",
        "\n",
        "  total_train_loss = 0\n",
        "  total_valid_loss = 0\n",
        "\n",
        "  total_train_dice = 0\n",
        "  total_valid_dice = 0\n",
        "\n",
        "  total_train_IoU = 0\n",
        "  total_valid_IoU = 0\n",
        "\n",
        "  for (i, (x, y)) in enumerate(train_dataloader):\n",
        "\n",
        "    (x,y) = (x.to(device),y.to(device))\n",
        "\n",
        "    pred = model(x)\n",
        "    \n",
        "\n",
        "    loss = loss_function(pred,y)\n",
        "    optimizer.zero_grad()\n",
        "    loss.backward()\n",
        "\n",
        "    optimizer.step()\n",
        "    pred = nn.Sigmoid()(pred)\n",
        "    total_train_loss += loss.item()\n",
        "    total_train_dice += dice_metric(pred,y).item()\n",
        "    total_train_IoU  += IoU_metric(pred,y).item()\n",
        "\n",
        "  with torch.no_grad():\n",
        "\n",
        "    model.eval()\n",
        "\n",
        "    for (i, (x, y)) in enumerate(valid_dataloader):\n",
        "\n",
        "      pred = model(x)\n",
        "\n",
        "      total_valid_loss += loss_function(pred, y).item()\n",
        "      total_valid_dice += dice_metric(pred,y).item()\n",
        "      total_valid_IoU  += IoU_metric(pred,y).item()\n",
        "\n",
        "  train_loss = total_train_loss / len(train_dataloader)\n",
        "  valid_loss = total_valid_loss / len(valid_dataloader)\n",
        "\n",
        "  train_dice = total_train_dice / len(train_dataloader)\n",
        "  valid_dice = total_valid_dice / len(valid_dataloader)\n",
        "\n",
        "  train_IoU  = total_train_IoU / len(train_dataloader)\n",
        "  valid_IoU  = total_valid_IoU / len(valid_dataloader)\n",
        "\n",
        "\n",
        "  H[\"train_loss\"].append(train_loss)\n",
        "  H[\"valid_loss\"].append(valid_loss)\n",
        "\n",
        "  H[\"train_dice\"].append(train_dice)\n",
        "  H[\"valid_dice\"].append(valid_dice)\n",
        "\n",
        "  H[\"train_IoU\"].append(train_IoU)\n",
        "  H[\"valid_IoU\"].append(valid_IoU)\n",
        "\n",
        "  print(\"[INFO] EPOCH: {}/{}\".format(e + 1, NUM_EPOCHS))\n",
        "  print(\"Train loss: {:.6f}, Valid loss: {:.4f}, Train DICE: {:.4f}, Valid DICE: {:.4f}, Train IoU: {:.4f}, Valid IoU: {:.4f}\".format(\n",
        "      train_loss, valid_loss,train_dice,valid_dice,train_IoU,valid_IoU))\n",
        "  \n",
        "end_time = time.time()\n",
        "\n",
        "print(\"[INFO] total time taken to train the model: {:.2f}s\".format(end_time - start_time))"
      ],
      "metadata": {
        "colab": {
          "base_uri": "https://localhost:8080/"
        },
        "id": "qc-nyn8F0D4k",
        "outputId": "aac284d2-8753-4ad9-e26e-2bff01900d5f"
      },
      "execution_count": null,
      "outputs": [
        {
          "output_type": "stream",
          "name": "stdout",
          "text": [
            "[INFO] training in progress ...\n"
          ]
        },
        {
          "output_type": "stream",
          "name": "stderr",
          "text": [
            "  5%|▌         | 1/20 [03:43<1:10:40, 223.16s/it]"
          ]
        },
        {
          "output_type": "stream",
          "name": "stdout",
          "text": [
            "[INFO] EPOCH: 1/20\n",
            "Train loss: 0.971361, Valid loss: 65.5727, Train DICE: 0.2515, Valid DICE: 0.0361, Train IoU: 0.1561, Valid IoU: 0.0184\n"
          ]
        },
        {
          "output_type": "stream",
          "name": "stderr",
          "text": [
            "\r 10%|█         | 2/20 [07:25<1:06:46, 222.56s/it]"
          ]
        },
        {
          "output_type": "stream",
          "name": "stdout",
          "text": [
            "[INFO] EPOCH: 2/20\n",
            "Train loss: 0.526893, Valid loss: 34.9013, Train DICE: 0.5741, Valid DICE: 0.0440, Train IoU: 0.4116, Valid IoU: 0.0225\n"
          ]
        },
        {
          "output_type": "stream",
          "name": "stderr",
          "text": [
            "\r 15%|█▌        | 3/20 [11:07<1:03:00, 222.40s/it]"
          ]
        },
        {
          "output_type": "stream",
          "name": "stdout",
          "text": [
            "[INFO] EPOCH: 3/20\n",
            "Train loss: 0.358313, Valid loss: 44.5303, Train DICE: 0.7254, Valid DICE: 0.0406, Train IoU: 0.5764, Valid IoU: 0.0208\n"
          ]
        },
        {
          "output_type": "stream",
          "name": "stderr",
          "text": [
            "\r 20%|██        | 4/20 [14:49<59:18, 222.38s/it]  "
          ]
        },
        {
          "output_type": "stream",
          "name": "stdout",
          "text": [
            "[INFO] EPOCH: 4/20\n",
            "Train loss: 0.314353, Valid loss: 1.1563, Train DICE: 0.7602, Valid DICE: 0.0190, Train IoU: 0.6177, Valid IoU: 0.0096\n"
          ]
        },
        {
          "output_type": "stream",
          "name": "stderr",
          "text": [
            "\r 25%|██▌       | 5/20 [18:32<55:36, 222.44s/it]"
          ]
        },
        {
          "output_type": "stream",
          "name": "stdout",
          "text": [
            "[INFO] EPOCH: 5/20\n",
            "Train loss: 0.257019, Valid loss: 12.4866, Train DICE: 0.8114, Valid DICE: 0.0259, Train IoU: 0.6861, Valid IoU: 0.0132\n"
          ]
        },
        {
          "output_type": "stream",
          "name": "stderr",
          "text": [
            "\r 30%|███       | 6/20 [22:14<51:53, 222.40s/it]"
          ]
        },
        {
          "output_type": "stream",
          "name": "stdout",
          "text": [
            "[INFO] EPOCH: 6/20\n",
            "Train loss: 0.232762, Valid loss: 41.5918, Train DICE: 0.8280, Valid DICE: 0.0382, Train IoU: 0.7104, Valid IoU: 0.0195\n"
          ]
        }
      ]
    },
    {
      "cell_type": "markdown",
      "source": [
        "https://github.com/Bjarten/early-stopping-pytorch/blob/master/pytorchtools.py"
      ],
      "metadata": {
        "id": "swlYq5d3lIeX"
      }
    },
    {
      "cell_type": "code",
      "source": [
        "NUM_EPOCHS = wandb.config[\"Epochs\"]\n",
        "\n",
        "print(\"[INFO] training the network...\")\n",
        "startTime = time.time()\n",
        "model = model.to(device)\n",
        "for e in tqdm(range(NUM_EPOCHS)):\n",
        "\n",
        "  model.train()\n",
        "\n",
        "  totalTrainLoss = 0\n",
        "  totalTestLoss = 0\n",
        "\n",
        "  for (i, (x, y)) in enumerate(train_dataloader):\n",
        "    \n",
        "    (x, y) = (x.to(device), y.to(device))\n",
        "    pred = model(x)\n",
        "\n",
        "    loss = loss_function(pred, y)\n",
        "\n",
        "    optimizer.zero_grad()\n",
        "    loss.backward()\n",
        "\n",
        "    optimizer.step()\n",
        "\n",
        "    totalTrainLoss += loss\n",
        "\n",
        "  with torch.no_grad():\n",
        "\n",
        "    model.eval()\n",
        "\n",
        "    for (x, y) in valid_dataloader:\n",
        "        \n",
        "        pred = model(x)\n",
        "        totalTestLoss += loss_function(pred, y)\n",
        "  \n",
        "  avgTrainLoss = totalTrainLoss / len(train_dataloader)\n",
        "  avgTestLoss = totalTestLoss / len(valid_dataloader)\n",
        "\n",
        "  H[\"train_loss\"].append(avgTrainLoss.cpu().detach().numpy())\n",
        "  H[\"test_loss\"].append(avgTestLoss.cpu().detach().numpy())\n",
        "\n",
        "  wandb.log({\n",
        "        \"Train Loss\": avgTrainLoss,\n",
        "        \"Valid Loss\": avgTestLoss})\n",
        "\n",
        "  print(\"[INFO] EPOCH: {}/{}\".format(e + 1, NUM_EPOCHS))\n",
        "  print(\"Train loss: {:.6f}, Test loss: {:.4f}\".format(avgTrainLoss, avgTestLoss))\n",
        "\n",
        "endTime = time.time()\n",
        "\n",
        "print(\"[INFO] total time taken to train the model: {:.2f}s\".format(endTime - startTime))"
      ],
      "metadata": {
        "id": "_bbKarVl4aDK"
      },
      "execution_count": null,
      "outputs": []
    },
    {
      "cell_type": "code",
      "source": [
        "test_dataset = Dataset_seg(valid_dir+\"/Images/\",valid_dir+\"/Labels/\",transforms.ToTensor())\n",
        "test_dataloader = DataLoader(test_dataset, batch_size = 1, shuffle = True)"
      ],
      "metadata": {
        "id": "URD_XZvHiIiL"
      },
      "execution_count": 34,
      "outputs": []
    },
    {
      "cell_type": "code",
      "source": [
        "img,label = next(iter(test_dataloader))\n",
        "\n",
        "model = model.to(device)\n",
        "img = img.to(device)\n",
        "\n",
        "output = model.forward(img)\n",
        "activation = nn.Sigmoid()\n",
        "\n",
        "output = activation(output)\n",
        "print(f\"Dice_metric : {dice_metric(output,label)*100:.3f}% , IoU {IoU_metric(output,label)*100:.3f}%\")\n",
        "\n",
        "img = img.cpu().squeeze()\n",
        "plt.imshow(img)\n",
        "plt.colorbar()\n",
        "plt.show()\n",
        "\n",
        "output = output.cpu().detach().numpy().squeeze()\n",
        "plt.imshow(output)\n",
        "plt.colorbar()\n",
        "plt.show()\n",
        "\n",
        "\n",
        "label = label.cpu().squeeze()\n",
        "plt.imshow(label)\n",
        "plt.colorbar()\n",
        "\n",
        "plt.show()\n",
        "\n",
        "\n",
        "img = wandb.Image(img, caption=\"Input image\")\n",
        "label = wandb.Image(label, caption=\"Mask image\")\n",
        "output = wandb.Image(output, caption=\"U-Net output\")\n",
        "          \n",
        "#wandb.log({\"Input\": img, \"label\":label, \"output\":output})\n"
      ],
      "metadata": {
        "colab": {
          "base_uri": "https://localhost:8080/",
          "height": 790
        },
        "id": "R_LE0tvhNCx7",
        "outputId": "7824cd40-911c-485a-b491-07ead466c585"
      },
      "execution_count": 35,
      "outputs": [
        {
          "output_type": "stream",
          "name": "stdout",
          "text": [
            "Dice_metric : 5.861% , IoU 3.019%\n"
          ]
        },
        {
          "output_type": "display_data",
          "data": {
            "image/png": "[encoded data removed]",
            "text/plain": [
              "<Figure size 432x288 with 2 Axes>"
            ]
          },
          "metadata": {
            "needs_background": "light"
          }
        },
        {
          "output_type": "display_data",
          "data": {
            "image/png": "[encoded data removed]",
            "text/plain": [
              "<Figure size 432x288 with 2 Axes>"
            ]
          },
          "metadata": {
            "needs_background": "light"
          }
        },
        {
          "output_type": "display_data",
          "data": {
            "image/png": "[encoded data removed]",
            "text/plain": [
              "<Figure size 432x288 with 2 Axes>"
            ]
          },
          "metadata": {
            "needs_background": "light"
          }
        }
      ]
    },
    {
      "cell_type": "markdown",
      "source": [
        "# Test"
      ],
      "metadata": {
        "id": "k76fSNnH4WJF"
      }
    },
    {
      "cell_type": "code",
      "source": [
        "#Model saving\n",
        "\n",
        "EPOCH = 20\n",
        "PATH = \"Unet_512.pt\"\n",
        "learning_rate = 0.001\n",
        "\n",
        "torch.save({\n",
        "            'epoch': EPOCH,\n",
        "            'model_state_dict': model.state_dict(),\n",
        "            'optimizer_state_dict': optimizer.state_dict(),\n",
        "            'learning_rate': learning_rate,\n",
        "            }, PATH)"
      ],
      "metadata": {
        "id": "A2ISAUt2MZC6"
      },
      "execution_count": null,
      "outputs": []
    },
    {
      "cell_type": "code",
      "source": [
        "PATH = \"Unet.pt\"\n",
        "\n",
        "model = Unet()\n",
        "model = model.to(device)\n",
        "checkpoint = torch.load(PATH)\n",
        "model.load_state_dict(checkpoint['model_state_dict'])"
      ],
      "metadata": {
        "colab": {
          "base_uri": "https://localhost:8080/"
        },
        "id": "sAkPZ75PMIrc",
        "outputId": "49cfe08d-c4a6-4b02-a836-f5cb647850f5"
      },
      "execution_count": null,
      "outputs": [
        {
          "output_type": "execute_result",
          "data": {
            "text/plain": [
              "<All keys matched successfully>"
            ]
          },
          "metadata": {},
          "execution_count": 120
        }
      ]
    },
    {
      "cell_type": "code",
      "source": [
        "print(model)"
      ],
      "metadata": {
        "id": "yEWIkZ6e43Jj"
      },
      "execution_count": null,
      "outputs": []
    },
    {
      "cell_type": "code",
      "source": [
        "img,label = next(iter(valid_dataloader))\n",
        "\n",
        "output = model.forward(img)\n",
        "#print(f\"Accuracy : {dice_metric(output,label)*100} %\")\n",
        "\n",
        "\n",
        "intersection = 2.0* (output*label).sum()\n",
        "output.sum()"
      ],
      "metadata": {
        "id": "tnQaMPIkx_-V"
      },
      "execution_count": null,
      "outputs": []
    },
    {
      "cell_type": "code",
      "source": [
        "def dice_metric(output,label):\n",
        "\n",
        "  intersection = 2.0* (output*label).sum()\n",
        "  union = output.sum()+label.sum()\n",
        "\n",
        "  if output.sum()==0 and label.sum()==0:\n",
        "    return  1\n",
        "  \n",
        "  return intersection/union"
      ],
      "metadata": {
        "id": "Gd_984EdyKk-"
      },
      "execution_count": null,
      "outputs": []
    }
  ]
}