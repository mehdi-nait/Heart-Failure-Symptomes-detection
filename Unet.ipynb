{
 "cells": [
  {
   "cell_type": "markdown",
   "metadata": {
    "colab_type": "text",
    "id": "view-in-github"
   },
   "source": [
    "<a href=\"https://colab.research.google.com/github/mehdi-nait/Heart-Failure-Symptomes-detection/blob/master/Unet.ipynb\" target=\"_parent\"><img src=\"https://colab.research.google.com/assets/colab-badge.svg\" alt=\"Open In Colab\"/></a>"
   ]
  },
  {
   "cell_type": "markdown",
   "metadata": {
    "id": "-XZZTsu2wkWk"
   },
   "source": [
    "cloning the github repo cotaining the dataset"
   ]
  },
  {
   "cell_type": "code",
   "execution_count": 1,
   "metadata": {
    "colab": {
     "base_uri": "https://localhost:8080/"
    },
    "id": "-zV4TimLclYC",
    "outputId": "9158bb47-c2d7-42ab-e086-5dc28ddeed6e"
   },
   "outputs": [
    {
     "name": "stdout",
     "output_type": "stream",
     "text": [
      "Cloning into 'Heart-Failure-Symptomes-detection'...\n",
      "remote: Enumerating objects: 3374, done.\u001b[K\n",
      "remote: Counting objects: 100% (3374/3374), done.\u001b[K\n",
      "remote: Compressing objects: 100% (3338/3338), done.\u001b[K\n",
      "remote: Total 3374 (delta 44), reused 3351 (delta 34), pack-reused 0\u001b[K\n",
      "Receiving objects: 100% (3374/3374), 57.27 MiB | 27.90 MiB/s, done.\n",
      "Resolving deltas: 100% (44/44), done.\n"
     ]
    }
   ],
   "source": [
    "!git clone https://github.com/mehdi-nait/Heart-Failure-Symptomes-detection.git"
   ]
  },
  {
   "cell_type": "code",
   "execution_count": 2,
   "metadata": {
    "id": "xfnTrvVctJiD"
   },
   "outputs": [],
   "source": [
    "cp -r Heart-Failure-Symptomes-detection/Data Data"
   ]
  },
  {
   "cell_type": "code",
   "execution_count": 2,
   "metadata": {
    "colab": {
     "base_uri": "https://localhost:8080/"
    },
    "id": "lMozfDdcp4ok",
    "outputId": "6457f6bc-bf6f-4d5c-dfa0-0bd850fd32c6"
   },
   "outputs": [],
   "source": [
    "import torch\n",
    "from torch import nn\n",
    "import torch.nn.functional as F\n",
    "from torchvision import transforms\n",
    "from torch.utils.data import Dataset\n",
    "import numpy as np\n",
    "import cv2\n",
    "import os\n",
    "import time\n",
    "import matplotlib.pyplot as plt\n",
    "from torch.utils.data import DataLoader\n",
    "from tqdm import tqdm\n",
    "from PIL import Image\n",
    "import Augmentor\n",
    "#!pip install wandb\n",
    "#import wandb\n"
   ]
  },
  {
   "cell_type": "markdown",
   "metadata": {
    "id": "_znaMQ8ZwvfY"
   },
   "source": [
    "logging into wandb to track experiments"
   ]
  },
  {
   "cell_type": "code",
   "execution_count": 5,
   "metadata": {
    "colab": {
     "base_uri": "https://localhost:8080/"
    },
    "id": "Fb4vCGU8Slsh",
    "outputId": "0eeb3591-f51c-4915-9e94-72c55b582aaf"
   },
   "outputs": [
    {
     "name": "stdout",
     "output_type": "stream",
     "text": [
      "\u001b[34m\u001b[1mwandb\u001b[0m: You can find your API key in your browser here: https://wandb.ai/authorize\n",
      "\u001b[34m\u001b[1mwandb\u001b[0m: Paste an API key from your profile and hit enter, or press ctrl+c to quit: \n",
      "\u001b[34m\u001b[1mwandb\u001b[0m: Appending key for api.wandb.ai to your netrc file: /root/.netrc\n"
     ]
    }
   ],
   "source": [
    "!wandb login"
   ]
  },
  {
   "cell_type": "code",
   "execution_count": 2,
   "metadata": {
    "id": "pcIu_g1jxWUk"
   },
   "outputs": [],
   "source": [
    "device = \"cuda\" if torch.cuda.is_available() else \"cpu\""
   ]
  },
  {
   "cell_type": "markdown",
   "metadata": {
    "id": "zGCfRIbqw2-j"
   },
   "source": [
    "# Constructing Dataset class"
   ]
  },
  {
   "cell_type": "code",
   "execution_count": null,
   "metadata": {},
   "outputs": [],
   "source": [
    "images_path = \"Data/Dataset/Train/Images/\" \n",
    "labels_path = \"Data/Dataset/Train/Labels/\"\n",
    "\n",
    "NUM_SAMPLES = 30000\n",
    "\n",
    "images = os.listdir(images_path)\n",
    "labels = os.listdir(labels_path)\n",
    "\n",
    "print(f\"init size : {len(images)}\")\n",
    "\n",
    "images = [images_path+X for X in images]\n",
    "labels = [labels_path+X for X in labels]\n",
    "\n",
    "collected = list(zip(images,labels))\n",
    "\n",
    "images = [[np.asarray(Image.open(y)) for y in x] for x in collected]\n",
    "\n",
    "p = Augmentor.DataPipeline(images)\n",
    "\n",
    "p.random_distortion(0.8,grid_height=15,grid_width=15,magnitude=5)\n",
    "p.rotate(1, max_left_rotation=5, max_right_rotation=5)\n",
    "p.flip_top_bottom(0.5)\n",
    "p.zoom_random(0.5, percentage_area=0.7)\n",
    "\n",
    "augmented_images= p.sample(NUM_SAMPLES)\n",
    "\n",
    "for i in range(len(augmented_images)):\n",
    "  \n",
    "  cv2.imwrite(f\"{images_path}{i}.png\", augmented_images[i][0])\n",
    "  cv2.imwrite(f\"{labels_path}{i}.png\", augmented_images[i][1])\n",
    "\n",
    "\n",
    "print(f\"end size : {len(os.listdir(images_path))}\")\n"
   ]
  },
  {
   "cell_type": "code",
   "execution_count": 1,
   "metadata": {},
   "outputs": [
    {
     "ename": "NameError",
     "evalue": "name 'os' is not defined",
     "output_type": "error",
     "traceback": [
      "\u001b[0;31m---------------------------------------------------------------------------\u001b[0m",
      "\u001b[0;31mNameError\u001b[0m                                 Traceback (most recent call last)",
      "Input \u001b[0;32mIn [1]\u001b[0m, in \u001b[0;36m<module>\u001b[0;34m\u001b[0m\n\u001b[1;32m      1\u001b[0m images_path \u001b[38;5;241m=\u001b[39m \u001b[38;5;124m\"\u001b[39m\u001b[38;5;124mData/Dataset/Train/Images/\u001b[39m\u001b[38;5;124m\"\u001b[39m \n\u001b[1;32m      2\u001b[0m labels_path \u001b[38;5;241m=\u001b[39m \u001b[38;5;124m\"\u001b[39m\u001b[38;5;124mData/Dataset/Train/Labels/\u001b[39m\u001b[38;5;124m\"\u001b[39m\n\u001b[0;32m----> 4\u001b[0m images \u001b[38;5;241m=\u001b[39m \u001b[43mos\u001b[49m\u001b[38;5;241m.\u001b[39mlistdir(images_path)\n\u001b[1;32m      5\u001b[0m labels \u001b[38;5;241m=\u001b[39m os\u001b[38;5;241m.\u001b[39mlistdir(labels_path)\n\u001b[1;32m      7\u001b[0m \u001b[38;5;28mprint\u001b[39m(\u001b[38;5;28mlen\u001b[39m(images))\n",
      "\u001b[0;31mNameError\u001b[0m: name 'os' is not defined"
     ]
    }
   ],
   "source": [
    "images_path = \"Data/Dataset/Train/Images/\" \n",
    "labels_path = \"Data/Dataset/Train/Labels/\"\n",
    "\n",
    "images = os.listdir(images_path)\n",
    "labels = os.listdir(labels_path)\n",
    "\n",
    "print(len(images))\n",
    "print(len(labels))\n",
    "images = [images_path+X for X in images]\n",
    "labels = [labels_path+X for X in labels]\n",
    "\n",
    "for image in images:\n",
    "  image = cv2.imread(image)\n",
    "  image = cv2.resize(image,(150,150))\n",
    "\n",
    "for image in labels:\n",
    "  image = cv2.imread(image)\n",
    "  image = cv2.resize(image,(150,150))"
   ]
  },
  {
   "cell_type": "code",
   "execution_count": 3,
   "metadata": {
    "id": "Pd9BnFVwpw3D"
   },
   "outputs": [],
   "source": [
    "class Dataset_seg(Dataset):\n",
    "    \"\"\"A class used to represent the dataset\n",
    "    \n",
    "    Attributes\n",
    "    ----------\n",
    "\n",
    "    images : list(str)\n",
    "        a list of image paths \n",
    "    labels : list(str)\n",
    "        list of labels paths\n",
    "    size_img : tuple(int,int)\n",
    "        image and label size\n",
    "    transform : function\n",
    "        transformation to be applied on the images/labels\n",
    "    \n",
    "    Methods\n",
    "    -------\n",
    "    __init__(self,image_dir,label_dir,transform = None)\n",
    "        instanciates the dataset object\n",
    "    __len__(self)\n",
    "        returns the length of the dataset\n",
    "    __getitem__(self,idx)\n",
    "        returns a image,label matrices couple after transforamations\n",
    "\n",
    "    \"\"\"\n",
    "    \n",
    "    def __init__(self,image_dir,label_dir,transform = None):\n",
    "\n",
    "        \n",
    "        self.images = os.listdir(image_dir)\n",
    "        self.images = [image_dir+x for x in self.images]\n",
    "        \n",
    "        self.labels = os.listdir(label_dir)\n",
    "        self.labels = [label_dir+x for x in self.labels]\n",
    "        self.transform = transform\n",
    "        self.size_img = (256,256)\n",
    "        \n",
    "    def __len__(self):\n",
    "\n",
    "        return len(self.images)\n",
    "    \n",
    "    def __getitem__(self,idx):\n",
    "\n",
    "        image = cv2.imread(self.images[idx], cv2.IMREAD_GRAYSCALE)\n",
    "        label = cv2.imread(self.labels[idx], cv2.IMREAD_GRAYSCALE)\n",
    "        \n",
    "        image = cv2.resize(image,self.size_img)\n",
    "        label = cv2.resize(label,self.size_img)\n",
    "\n",
    "        if self.transform:\n",
    "            image = self.transform(image)\n",
    "            label = self.transform(label)\n",
    "        \n",
    "        image = image.to(device)\n",
    "        label = label.to(device)\n",
    "        return image,label\n",
    "        \n",
    "        "
   ]
  },
  {
   "cell_type": "markdown",
   "metadata": {
    "id": "hIw_-X6Xxbrr"
   },
   "source": [
    "To do : Elastic transformations data augmentation"
   ]
  },
  {
   "cell_type": "markdown",
   "metadata": {
    "id": "8HZCtqy4xiyx"
   },
   "source": [
    "# Building U-Net Model"
   ]
  },
  {
   "cell_type": "markdown",
   "metadata": {
    "id": "0RjDn2h9xmqC"
   },
   "source": [
    "Inspired from O. Ronneberger, P. Fischer, and T. Brox, “U-net: Convolutional networks for biomedical \n",
    "image segmentation,” "
   ]
  },
  {
   "cell_type": "code",
   "execution_count": 4,
   "metadata": {
    "id": "m6wB_orLqBRM"
   },
   "outputs": [],
   "source": [
    "class Block(nn.Module):\n",
    "  \"\"\"\"\"\"\n",
    "\n",
    "  def __init__(self,in_channels,out_channels):\n",
    "    \n",
    "    super(Block,self).__init__()\n",
    "\n",
    "    self.conv1 = nn.Conv2d(in_channels,out_channels,kernel_size=3)\n",
    "    self.relu  = nn.LeakyReLU()\n",
    "    self.batch_norm = nn.BatchNorm2d(out_channels)\n",
    "    self.conv2 = nn.Conv2d(out_channels,out_channels,kernel_size=3)\n",
    "    \n",
    "\n",
    "  def forward(self,x):\n",
    "    \n",
    "    x = self.conv1(x)\n",
    "    x = self.relu(x)\n",
    "    x = self.batch_norm(x)\n",
    "    x = self.conv2(x)\n",
    "    x = self.relu(x)\n",
    "    x = self.batch_norm(x)\n",
    "    return x"
   ]
  },
  {
   "cell_type": "code",
   "execution_count": 5,
   "metadata": {
    "id": "3nj2erzprBri"
   },
   "outputs": [],
   "source": [
    "class Encoder(nn.Module):\n",
    "\n",
    "  def __init__(self,channels = (1,16,32,64)):\n",
    "    super(Encoder,self).__init__()\n",
    "\n",
    "    self.encode_blocks = nn.ModuleList(Block(channels[i],channels[i+1]) for i in range(len(channels)-1))\n",
    "    self.pooling = nn.MaxPool2d(2,2)\n",
    "\n",
    "  def forward(self,x):\n",
    "\n",
    "    outputs = []\n",
    "\n",
    "    for block in self.encode_blocks:\n",
    "\n",
    "      x = block(x)\n",
    "      outputs.append(x)\n",
    "      x = self.pooling(x)\n",
    "\n",
    "    return outputs"
   ]
  },
  {
   "cell_type": "code",
   "execution_count": 6,
   "metadata": {
    "id": "PtDJ1aVbtd2H"
   },
   "outputs": [],
   "source": [
    "class Decoder(nn.Module):\n",
    "\n",
    "  def __init__(self,channels = (64,32,16)):\n",
    "\n",
    "    super(Decoder,self).__init__()\n",
    "\n",
    "    self.channels = channels\n",
    "    self.up_convs  = nn.ModuleList(nn.ConvTranspose2d(channels[i],channels[i+1],2,2) for i in range(len(channels)-1))\n",
    "    self.dec_blocks = nn.ModuleList(Block(channels[i],channels[i+1]) for i in range(len(channels)-1))\n",
    "    self.batch_norms = nn.ModuleList(nn.BatchNorm2d(channels[i+1]) for i in range(len(channels)-1))\n",
    "\n",
    "  def forward(self,x,enc_features):\n",
    "\n",
    "    for i in range(len(self.channels)-1):\n",
    "      \n",
    "      x = self.up_convs[i](x)\n",
    "      x = self.batch_norms[i](x)\n",
    "      enc_feature = self.copy_crop(enc_features[i],x)\n",
    "      x = torch.cat((enc_feature,x),dim=1)\n",
    "      x = self.dec_blocks[i](x)\n",
    "\n",
    "    \n",
    "    return x\n",
    "\n",
    "\n",
    "  def copy_crop(self,feature,x):\n",
    "\n",
    "    _,_,H,W = x.shape\n",
    "    cropped_feature = transforms.CenterCrop([H,W])(feature)\n",
    "    return cropped_feature"
   ]
  },
  {
   "cell_type": "code",
   "execution_count": 7,
   "metadata": {
    "id": "0Ov8KVY1rta4"
   },
   "outputs": [],
   "source": [
    "class Unet(nn.Module):\n",
    "\n",
    "  def __init__(self, enc_channels = (1,16,32,64), dec_channels = (64,32,16),nb_classes = 1, retainDim = True, out_size=(256,256)):\n",
    "    super(Unet,self).__init__()\n",
    "\n",
    "    self.encoder = Encoder(enc_channels)\n",
    "    self.decoder = Decoder(dec_channels)\n",
    "    \n",
    "    self.head = nn.Conv2d(dec_channels[-1], nb_classes, 1)\n",
    "    self.retainDim = retainDim\n",
    "    self.outSize = out_size\n",
    "    self.activation = nn.Sigmoid()\n",
    "    \n",
    "\n",
    "  \n",
    "  def forward(self,x):\n",
    "\n",
    "    enc_features = self.encoder(x)\n",
    "\n",
    "    dec_features = self.decoder(enc_features[::-1][0],enc_features[::-1][1:])\n",
    "\t\t\n",
    "    map = self.head(dec_features)\n",
    "    map = self.activation(map)\n",
    "    \n",
    "    if self.retainDim:\n",
    "      map = F.interpolate(map, self.outSize)\n",
    "    \n",
    "  \n",
    "    return map"
   ]
  },
  {
   "cell_type": "markdown",
   "metadata": {
    "id": "zCfouvNOxsYL"
   },
   "source": [
    "# Defining training metrics (loss & accuracy mesurement)"
   ]
  },
  {
   "cell_type": "markdown",
   "metadata": {
    "id": "u1fPtdAfxwo8"
   },
   "source": [
    "Here, we're using a Sigmoid Binary Cross Entropy loss function combined with dice loss, which yielded better results for dataset"
   ]
  },
  {
   "cell_type": "code",
   "execution_count": 8,
   "metadata": {
    "id": "HNagCtZnclkU"
   },
   "outputs": [],
   "source": [
    "class SoftDiceLoss(nn.Module):\n",
    "  \n",
    "    def __init__(self, weight=None, size_average=True):\n",
    "        super(SoftDiceLoss, self).__init__()\n",
    "\n",
    "    def forward(self, logits, targets):\n",
    "        smooth = 1\n",
    "        num = targets.size(0)\n",
    "        m1 = probs.view(num, -1)\n",
    "        m2 = targets.view(num, -1)\n",
    "        intersection = (m1 * m2)\n",
    "\n",
    "        score = 2. * (intersection.sum(1) + smooth) / (m1.sum(1) + m2.sum(1) + smooth)\n",
    "        score = 1 - score.sum() / num\n",
    "        return score\n",
    "    "
   ]
  },
  {
   "cell_type": "code",
   "execution_count": 9,
   "metadata": {
    "id": "cQf4tNI-baRm"
   },
   "outputs": [],
   "source": [
    "class BCE_DiceLoss(nn.Module):\n",
    "  def __init__(self,weight = None,size_average = True):\n",
    "    super(BCE_DiceLoss,self).__init__()\n",
    "    \n",
    "  def forward(self,logits,targets):\n",
    "    bce = nn.BCEWithLogitsLoss()\n",
    "    dice_loss = SoftDiceLoss()\n",
    "    return bce(logits, targets) + (1-dice_metric(logits, targets))\n",
    "    "
   ]
  },
  {
   "cell_type": "markdown",
   "metadata": {
    "id": "8U2BtsZ5yaO9"
   },
   "source": [
    "Defining accuracy mesurement metrics, namely Dice coefficient and jaccard's index (Intersection over Union)"
   ]
  },
  {
   "cell_type": "code",
   "execution_count": 10,
   "metadata": {
    "id": "vCPclhalr8-M"
   },
   "outputs": [],
   "source": [
    "def dice_metric(output,label):\n",
    "\n",
    "  intersection = 2.0* (output*label).sum()\n",
    "  union = output.sum()+label.sum()\n",
    "\n",
    "  if output.sum()==0 and label.sum()==0:\n",
    "    return  1\n",
    "  \n",
    "  return intersection/union"
   ]
  },
  {
   "cell_type": "code",
   "execution_count": 11,
   "metadata": {
    "id": "kZcjrCFLvLza"
   },
   "outputs": [],
   "source": [
    "def IoU_metric(output,label):\n",
    "  \n",
    "  intersection = (output*label).sum()\n",
    "  union = output.sum()+label.sum() - intersection\n",
    "\n",
    "  if output.sum()==0 and label.sum()==0:\n",
    "    return  1\n",
    "  \n",
    "  return intersection/union"
   ]
  },
  {
   "cell_type": "markdown",
   "metadata": {
    "id": "v0f4RsDpyN2r"
   },
   "source": [
    "# Data preparation, and model training"
   ]
  },
  {
   "cell_type": "code",
   "execution_count": 12,
   "metadata": {
    "id": "Dujv3cCVzfNz"
   },
   "outputs": [],
   "source": [
    "EPOCHS = 10 \n",
    "BATCH_SIZE = 10\n",
    "LR = 0.001\n",
    "MOMENTUM = 0.99\n",
    "ENC_CHANNELS = (1,128,256,512) \n",
    "DEC_CHANNELS = (512,256,128)"
   ]
  },
  {
   "cell_type": "code",
   "execution_count": 13,
   "metadata": {
    "id": "HLrJSv50YDXV"
   },
   "outputs": [],
   "source": [
    "train_dir = \"Data/Dataset/Train/\"\n",
    "valid_dir = \"Data/Dataset/Test/\"\n",
    "\n",
    "\n",
    "train_dataset = Dataset_seg(train_dir+\"/Images/\",train_dir+\"/Labels/\",transforms.ToTensor())\n",
    "valid_dataset = Dataset_seg(valid_dir+\"/Images/\",valid_dir+\"/Labels/\",transforms.ToTensor())\n",
    "\n",
    "valid_dataloader = DataLoader(valid_dataset, batch_size = BATCH_SIZE, shuffle = True)\n",
    "train_dataloader = DataLoader(train_dataset, batch_size = BATCH_SIZE, shuffle = True)\n"
   ]
  },
  {
   "cell_type": "markdown",
   "metadata": {
    "id": "W-exTah2y2ce"
   },
   "source": [
    "Storing Training configuration in logging interface (wandb)"
   ]
  },
  {
   "cell_type": "code",
   "execution_count": 14,
   "metadata": {
    "colab": {
     "base_uri": "https://localhost:8080/",
     "height": 197,
     "referenced_widgets": [
      "a262ce56f67e4939b26e5fbf7a7013ba",
      "12432562444f4719b4842ae0e9043fb9",
      "073dcf70f14b43da8f09cb709e294a36",
      "e6b76a690e69496d8cb2f8da8875843f",
      "b7df75982a9c4a558281aa1e540682e0",
      "8b8031da4f1946eba20bdeae6561784f",
      "305b255a3dd44965ad5bed95465ddca3",
      "c467e519381744bdb6d1771bec500c40"
     ]
    },
    "id": "OgJaCFLya55x",
    "outputId": "63047e0e-7f33-4fb3-ff9f-2c184014e291"
   },
   "outputs": [],
   "source": [
    "config = {\n",
    "  \"Loss_function\" : \"BCE_DiceLoss\",\n",
    "  \"Optimizer\" : \"SGD\",\n",
    "  \"Learning_rate\": LR,\n",
    "  \"Momentum\":MOMENTUM,\n",
    "  \"Image_Size\" : 256,\n",
    "  \"encoder layers\":ENC_CHANNELS,\n",
    "  \"decoder layers\":DEC_CHANNELS,\n",
    "  \"Epochs\": EPOCHS,\n",
    "  \"Batch_size\": BATCH_SIZE,\n",
    "  \"Device\" : device\n",
    "}\n",
    "\n",
    "#wandb.init(config=wandb.config,project=\"U-Net\", entity=\"mehdi-nait\")\n"
   ]
  },
  {
   "cell_type": "code",
   "execution_count": 17,
   "metadata": {},
   "outputs": [
    {
     "data": {
      "text/plain": [
       "3053"
      ]
     },
     "execution_count": 17,
     "metadata": {},
     "output_type": "execute_result"
    }
   ],
   "source": [
    "len(train_dataloader)"
   ]
  },
  {
   "cell_type": "code",
   "execution_count": 15,
   "metadata": {
    "id": "bnL-bEl13kgm"
   },
   "outputs": [],
   "source": [
    "model = Unet(enc_channels=ENC_CHANNELS, dec_channels=DEC_CHANNELS)\n",
    "loss_function = BCE_DiceLoss()\n",
    "\n",
    "optimizer = torch.optim.Adam(model.parameters(), lr = 0.00008)\n",
    "# initialize a dictionary to store training history\n",
    "H = {\"train_loss\": [], \"valid_loss\": [], \"train_dice\": [], \"train_IoU\": [], \"valid_dice\": [], \"valid_IoU\": []}"
   ]
  },
  {
   "cell_type": "code",
   "execution_count": 16,
   "metadata": {},
   "outputs": [
    {
     "data": {
      "text/plain": [
       "7445889"
      ]
     },
     "execution_count": 16,
     "metadata": {},
     "output_type": "execute_result"
    }
   ],
   "source": [
    "def count_parameters(model):\n",
    "    return sum(p.numel() for p in model.parameters() if p.requires_grad)\n",
    "count_parameters(model)"
   ]
  },
  {
   "cell_type": "code",
   "execution_count": null,
   "metadata": {
    "colab": {
     "base_uri": "https://localhost:8080/"
    },
    "id": "qc-nyn8F0D4k",
    "outputId": "aac284d2-8753-4ad9-e26e-2bff01900d5f"
   },
   "outputs": [
    {
     "name": "stdout",
     "output_type": "stream",
     "text": [
      "[INFO] training in progress ...\n"
     ]
    },
    {
     "name": "stderr",
     "output_type": "stream",
     "text": [
      "  0%|          | 0/10 [00:00<?, ?it/s]"
     ]
    }
   ],
   "source": [
    "NUM_EPOCHS = config[\"Epochs\"]\n",
    "\n",
    "print(\"[INFO] training in progress ...\")\n",
    "\n",
    "start_time = time.time()\n",
    "\n",
    "model = model.to(device)\n",
    "\n",
    "for e in tqdm(range(NUM_EPOCHS)):\n",
    "\n",
    "  model.train()\n",
    "\n",
    "  total_train_loss = 0\n",
    "  total_valid_loss = 0\n",
    "\n",
    "  total_train_dice = 0\n",
    "  total_valid_dice = 0\n",
    "\n",
    "  total_train_IoU = 0\n",
    "  total_valid_IoU = 0\n",
    "\n",
    "  for (i, (x, y)) in enumerate(train_dataloader):\n",
    "\n",
    "    (x,y) = (x.to(device),y.to(device))\n",
    "\n",
    "    pred = model(x)\n",
    "    \n",
    "\n",
    "    loss = loss_function(pred,y)\n",
    "    optimizer.zero_grad()\n",
    "    loss.backward()\n",
    "\n",
    "    optimizer.step()\n",
    "    #pred = nn.Sigmoid()(pred)\n",
    "    total_train_loss += loss.item()\n",
    "    total_train_dice += dice_metric(pred,y).item()\n",
    "    total_train_IoU  += IoU_metric(pred,y).item()\n",
    "\n",
    "  with torch.no_grad():\n",
    "\n",
    "    model.eval()\n",
    "\n",
    "    for (i, (x, y)) in enumerate(valid_dataloader):\n",
    "\n",
    "      pred = model(x)\n",
    "\n",
    "      total_valid_loss += loss_function(pred, y).item()\n",
    "      #pred = nn.Sigmoid()(pred)\n",
    "      total_valid_dice += dice_metric(pred,y).item()\n",
    "      total_valid_IoU  += IoU_metric(pred,y).item()\n",
    "\n",
    "  train_loss = total_train_loss / len(train_dataloader)\n",
    "  valid_loss = total_valid_loss / len(valid_dataloader)\n",
    "\n",
    "  train_dice = total_train_dice / len(train_dataloader)\n",
    "  valid_dice = total_valid_dice / len(valid_dataloader)\n",
    "\n",
    "  train_IoU  = total_train_IoU / len(train_dataloader)\n",
    "  valid_IoU  = total_valid_IoU / len(valid_dataloader)\n",
    "\n",
    "\n",
    "  H[\"train_loss\"].append(train_loss)\n",
    "  H[\"valid_loss\"].append(valid_loss)\n",
    "\n",
    "  H[\"train_dice\"].append(train_dice)\n",
    "  H[\"valid_dice\"].append(valid_dice)\n",
    "\n",
    "  H[\"train_IoU\"].append(train_IoU)\n",
    "  H[\"valid_IoU\"].append(valid_IoU)\n",
    "\n",
    "  print(\"[INFO] EPOCH: {}/{}\".format(e + 1, NUM_EPOCHS))\n",
    "  print(\"Train loss: {:.6f}, Valid loss: {:.4f}, Train DICE: {:.4f}, Valid DICE: {:.4f}, Train IoU: {:.4f}, Valid IoU: {:.4f}\".format(\n",
    "      train_loss, valid_loss,train_dice,valid_dice,train_IoU,valid_IoU))\n",
    "  \n",
    "end_time = time.time()\n",
    "\n",
    "print(\"[INFO] total time taken to train the model: {:.2f}s\".format(end_time - start_time))"
   ]
  },
  {
   "cell_type": "code",
   "execution_count": null,
   "metadata": {},
   "outputs": [],
   "source": [
    "plt.plot(H[\"train_loss\"],'r', label='Training Loss')\n",
    "plt.plot(H[\"valid_loss\"],'b', label='Validation Lcount_parameterst.title(\"Loss evolution during training/validation\")\n",
    "plt.legend()\n",
    "plt.show()\n",
    "\n",
    "plt.plot(H[\"train_dice\"],'r', label='Training Dice')\n",
    "plt.plot(H[\"valid_dice\"],'b', label='Validation Dice')\n",
    "plt.title(\"Dice evolution during training/validation\")\n",
    "plt.legend()\n",
    "plt.show()\n",
    "\n",
    "plt.plot( H[\"train_IoU\"], 'r', label='Training IoU')\n",
    "plt.plot(H[\"valid_IoU\"], 'b', label='Validation IoU')\n",
    "plt.title(\"IoU evolution during training/validation\")\n",
    "plt.legend()\n",
    "plt.show()"
   ]
  },
  {
   "cell_type": "markdown",
   "metadata": {
    "id": "swlYq5d3lIeX"
   },
   "source": [
    "https://github.com/Bjarten/early-stopping-pytorch/blob/master/pytorchtools.py"
   ]
  },
  {
   "cell_type": "code",
   "execution_count": 23,
   "metadata": {
    "id": "URD_XZvHiIiL"
   },
   "outputs": [],
   "source": [
    "#test_dataset = Dataset_seg(train_dir+\"/Images/\",train_dir+\"/Labels/\",transforms.ToTensor())\n",
    "test_dataset = Dataset_seg(valid_dir+\"/Images/\",valid_dir+\"/Labels/\",transforms.ToTensor())\n",
    "test_dataloader = DataLoader(test_dataset, batch_size = 1, shuffle = True)"
   ]
  },
  {
   "cell_type": "code",
   "execution_count": 26,
   "metadata": {
    "colab": {
     "base_uri": "https://localhost:8080/",
     "height": 790
    },
    "id": "R_LE0tvhNCx7",
    "outputId": "7824cd40-911c-485a-b491-07ead466c585"
   },
   "outputs": [
    {
     "name": "stdout",
     "output_type": "stream",
     "text": [
      "Dice_metric : 13.749% , IoU 7.382%\n"
     ]
    },
    {
     "data": {
      "image/png": "[encoded data removed]",
      "text/plain": [
       "<Figure size 432x288 with 2 Axes>"
      ]
     },
     "metadata": {
      "needs_background": "light"
     },
     "output_type": "display_data"
    },
    {
     "data": {
      "image/png": "[encoded data removed]",
      "text/plain": [
       "<Figure size 432x288 with 2 Axes>"
      ]
     },
     "metadata": {
      "needs_background": "light"
     },
     "output_type": "display_data"
    },
    {
     "data": {
      "image/png": "[encoded data removed]",
      "text/plain": [
       "<Figure size 432x288 with 2 Axes>"
      ]
     },
     "metadata": {
      "needs_background": "light"
     },
     "output_type": "display_data"
    }
   ],
   "source": [
    "img,label = next(iter(test_dataloader))\n",
    "\n",
    "model = model.to(device)\n",
    "img = img.to(device)\n",
    "output = model.forward(img)\n",
    "\n",
    "print(f\"Dice_metric : {dice_metric(output,label)*100:.3f}% , IoU {IoU_metric(output,label)*100:.3f}%\")\n",
    "\n",
    "img = img.cpu().squeeze()\n",
    "plt.imshow(img)\n",
    "plt.colorbar()\n",
    "plt.show()\n",
    "\n",
    "output = output.cpu().detach().numpy().squeeze()\n",
    "plt.imshow(output)\n",
    "plt.colorbar()\n",
    "plt.show()\n",
    "\n",
    "\n",
    "label = label.cpu().squeeze()\n",
    "plt.imshow(label)\n",
    "plt.colorbar()\n",
    "\n",
    "plt.show()\n",
    "\n",
    "\n",
    "#img = wandb.Image(img, caption=\"Input image\")\n",
    "#label = wandb.Image(label, caption=\"Mask image\")\n",
    "#output = wandb.Image(output, caption=\"U-Net output\")\n",
    "          \n",
    "#wandb.log({\"Input\": img, \"label\":label, \"output\":output})\n"
   ]
  },
  {
   "cell_type": "markdown",
   "metadata": {
    "id": "k76fSNnH4WJF"
   },
   "source": [
    "# Test"
   ]
  },
  {
   "cell_type": "code",
   "execution_count": 25,
   "metadata": {
    "id": "A2ISAUt2MZC6"
   },
   "outputs": [],
   "source": [
    "#Model saving\n",
    "\n",
    "EPOCH = 20\n",
    "PATH = \"Unet_512.pt\"\n",
    "learning_rate = 0.001\n",
    "\n",
    "torch.save({\n",
    "            'epoch': EPOCH,\n",
    "            'model_state_dict': model.state_dict(),\n",
    "            'optimizer_state_dict': optimizer.state_dict(),\n",
    "            'learning_rate': learning_rate,\n",
    "            }, PATH)"
   ]
  },
  {
   "cell_type": "code",
   "execution_count": null,
   "metadata": {
    "colab": {
     "base_uri": "https://localhost:8080/"
    },
    "id": "sAkPZ75PMIrc",
    "outputId": "49cfe08d-c4a6-4b02-a836-f5cb647850f5"
   },
   "outputs": [
    {
     "data": {
      "text/plain": [
       "<All keys matched successfully>"
      ]
     },
     "execution_count": 120,
     "metadata": {},
     "output_type": "execute_result"
    }
   ],
   "source": [
    "PATH = \"Unet.pt\"\n",
    "\n",
    "model = Unet()\n",
    "model = model.to(device)\n",
    "checkpoint = torch.load(PATH)\n",
    "model.load_state_dict(checkpoint['model_state_dict'])"
   ]
  },
  {
   "cell_type": "code",
   "execution_count": null,
   "metadata": {
    "id": "yEWIkZ6e43Jj"
   },
   "outputs": [],
   "source": [
    "print(model)"
   ]
  },
  {
   "cell_type": "code",
   "execution_count": null,
   "metadata": {
    "id": "tnQaMPIkx_-V"
   },
   "outputs": [],
   "source": [
    "img,label = next(iter(valid_dataloader))\n",
    "\n",
    "output = model.forward(img)\n",
    "#print(f\"Accuracy : {dice_metric(output,label)*100} %\")\n",
    "\n",
    "\n",
    "intersection = 2.0* (output*label).sum()\n",
    "output.sum()"
   ]
  },
  {
   "cell_type": "code",
   "execution_count": null,
   "metadata": {
    "id": "Gd_984EdyKk-"
   },
   "outputs": [],
   "source": [
    "def dice_metric(output,label):\n",
    "\n",
    "  intersection = 2.0* (output*label).sum()\n",
    "  union = output.sum()+label.sum()\n",
    "\n",
    "  if output.sum()==0 and label.sum()==0:\n",
    "    return  1\n",
    "  \n",
    "  return intersection/union"
   ]
  }
 ],
 "metadata": {
  "accelerator": "GPU",
  "colab": {
   "authorship_tag": "ABX9TyMq21mPA/0UOHAx4FYxKm4F",
   "collapsed_sections": [],
   "include_colab_link": true,
   "name": "Unet.ipynb",
   "provenance": []
  },
  "kernelspec": {
   "display_name": "vision:Python",
   "language": "python",
   "name": "conda-env-vision-py"
  },
  "language_info": {
   "codemirror_mode": {
    "name": "ipython",
    "version": 3
   },
   "file_extension": ".py",
   "mimetype": "text/x-python",
   "name": "python",
   "nbconvert_exporter": "python",
   "pygments_lexer": "ipython3",
   "version": "3.9.9"
  },
  "widgets": {
   "application/vnd.jupyter.widget-state+json": {
    "073dcf70f14b43da8f09cb709e294a36": {
     "model_module": "@jupyter-widgets/controls",
     "model_module_version": "1.5.0",
     "model_name": "LabelModel",
     "state": {
      "_dom_classes": [],
      "_model_module": "@jupyter-widgets/controls",
      "_model_module_version": "1.5.0",
      "_model_name": "LabelModel",
      "_view_count": null,
      "_view_module": "@jupyter-widgets/controls",
      "_view_module_version": "1.5.0",
      "_view_name": "LabelView",
      "description": "",
      "description_tooltip": null,
      "layout": "IPY_MODEL_8b8031da4f1946eba20bdeae6561784f",
      "placeholder": "​",
      "style": "IPY_MODEL_b7df75982a9c4a558281aa1e540682e0",
      "value": " 0.01MB of 0.01MB uploaded (0.00MB deduped)\r"
     }
    },
    "12432562444f4719b4842ae0e9043fb9": {
     "model_module": "@jupyter-widgets/base",
     "model_module_version": "1.2.0",
     "model_name": "LayoutModel",
     "state": {
      "_model_module": "@jupyter-widgets/base",
      "_model_module_version": "1.2.0",
      "_model_name": "LayoutModel",
      "_view_count": null,
      "_view_module": "@jupyter-widgets/base",
      "_view_module_version": "1.2.0",
      "_view_name": "LayoutView",
      "align_content": null,
      "align_items": null,
      "align_self": null,
      "border": null,
      "bottom": null,
      "display": null,
      "flex": null,
      "flex_flow": null,
      "grid_area": null,
      "grid_auto_columns": null,
      "grid_auto_flow": null,
      "grid_auto_rows": null,
      "grid_column": null,
      "grid_gap": null,
      "grid_row": null,
      "grid_template_areas": null,
      "grid_template_columns": null,
      "grid_template_rows": null,
      "height": null,
      "justify_content": null,
      "justify_items": null,
      "left": null,
      "margin": null,
      "max_height": null,
      "max_width": null,
      "min_height": null,
      "min_width": null,
      "object_fit": null,
      "object_position": null,
      "order": null,
      "overflow": null,
      "overflow_x": null,
      "overflow_y": null,
      "padding": null,
      "right": null,
      "top": null,
      "visibility": null,
      "width": null
     }
    },
    "305b255a3dd44965ad5bed95465ddca3": {
     "model_module": "@jupyter-widgets/controls",
     "model_module_version": "1.5.0",
     "model_name": "ProgressStyleModel",
     "state": {
      "_model_module": "@jupyter-widgets/controls",
      "_model_module_version": "1.5.0",
      "_model_name": "ProgressStyleModel",
      "_view_count": null,
      "_view_module": "@jupyter-widgets/base",
      "_view_module_version": "1.2.0",
      "_view_name": "StyleView",
      "bar_color": null,
      "description_width": ""
     }
    },
    "8b8031da4f1946eba20bdeae6561784f": {
     "model_module": "@jupyter-widgets/base",
     "model_module_version": "1.2.0",
     "model_name": "LayoutModel",
     "state": {
      "_model_module": "@jupyter-widgets/base",
      "_model_module_version": "1.2.0",
      "_model_name": "LayoutModel",
      "_view_count": null,
      "_view_module": "@jupyter-widgets/base",
      "_view_module_version": "1.2.0",
      "_view_name": "LayoutView",
      "align_content": null,
      "align_items": null,
      "align_self": null,
      "border": null,
      "bottom": null,
      "display": null,
      "flex": null,
      "flex_flow": null,
      "grid_area": null,
      "grid_auto_columns": null,
      "grid_auto_flow": null,
      "grid_auto_rows": null,
      "grid_column": null,
      "grid_gap": null,
      "grid_row": null,
      "grid_template_areas": null,
      "grid_template_columns": null,
      "grid_template_rows": null,
      "height": null,
      "justify_content": null,
      "justify_items": null,
      "left": null,
      "margin": null,
      "max_height": null,
      "max_width": null,
      "min_height": null,
      "min_width": null,
      "object_fit": null,
      "object_position": null,
      "order": null,
      "overflow": null,
      "overflow_x": null,
      "overflow_y": null,
      "padding": null,
      "right": null,
      "top": null,
      "visibility": null,
      "width": null
     }
    },
    "a262ce56f67e4939b26e5fbf7a7013ba": {
     "model_module": "@jupyter-widgets/controls",
     "model_module_version": "1.5.0",
     "model_name": "VBoxModel",
     "state": {
      "_dom_classes": [],
      "_model_module": "@jupyter-widgets/controls",
      "_model_module_version": "1.5.0",
      "_model_name": "VBoxModel",
      "_view_count": null,
      "_view_module": "@jupyter-widgets/controls",
      "_view_module_version": "1.5.0",
      "_view_name": "VBoxView",
      "box_style": "",
      "children": [
       "IPY_MODEL_073dcf70f14b43da8f09cb709e294a36",
       "IPY_MODEL_e6b76a690e69496d8cb2f8da8875843f"
      ],
      "layout": "IPY_MODEL_12432562444f4719b4842ae0e9043fb9"
     }
    },
    "b7df75982a9c4a558281aa1e540682e0": {
     "model_module": "@jupyter-widgets/controls",
     "model_module_version": "1.5.0",
     "model_name": "DescriptionStyleModel",
     "state": {
      "_model_module": "@jupyter-widgets/controls",
      "_model_module_version": "1.5.0",
      "_model_name": "DescriptionStyleModel",
      "_view_count": null,
      "_view_module": "@jupyter-widgets/base",
      "_view_module_version": "1.2.0",
      "_view_name": "StyleView",
      "description_width": ""
     }
    },
    "c467e519381744bdb6d1771bec500c40": {
     "model_module": "@jupyter-widgets/base",
     "model_module_version": "1.2.0",
     "model_name": "LayoutModel",
     "state": {
      "_model_module": "@jupyter-widgets/base",
      "_model_module_version": "1.2.0",
      "_model_name": "LayoutModel",
      "_view_count": null,
      "_view_module": "@jupyter-widgets/base",
      "_view_module_version": "1.2.0",
      "_view_name": "LayoutView",
      "align_content": null,
      "align_items": null,
      "align_self": null,
      "border": null,
      "bottom": null,
      "display": null,
      "flex": null,
      "flex_flow": null,
      "grid_area": null,
      "grid_auto_columns": null,
      "grid_auto_flow": null,
      "grid_auto_rows": null,
      "grid_column": null,
      "grid_gap": null,
      "grid_row": null,
      "grid_template_areas": null,
      "grid_template_columns": null,
      "grid_template_rows": null,
      "height": null,
      "justify_content": null,
      "justify_items": null,
      "left": null,
      "margin": null,
      "max_height": null,
      "max_width": null,
      "min_height": null,
      "min_width": null,
      "object_fit": null,
      "object_position": null,
      "order": null,
      "overflow": null,
      "overflow_x": null,
      "overflow_y": null,
      "padding": null,
      "right": null,
      "top": null,
      "visibility": null,
      "width": null
     }
    },
    "e6b76a690e69496d8cb2f8da8875843f": {
     "model_module": "@jupyter-widgets/controls",
     "model_module_version": "1.5.0",
     "model_name": "FloatProgressModel",
     "state": {
      "_dom_classes": [],
      "_model_module": "@jupyter-widgets/controls",
      "_model_module_version": "1.5.0",
      "_model_name": "FloatProgressModel",
      "_view_count": null,
      "_view_module": "@jupyter-widgets/controls",
      "_view_module_version": "1.5.0",
      "_view_name": "ProgressView",
      "bar_style": "",
      "description": "",
      "description_tooltip": null,
      "layout": "IPY_MODEL_c467e519381744bdb6d1771bec500c40",
      "max": 1,
      "min": 0,
      "orientation": "horizontal",
      "style": "IPY_MODEL_305b255a3dd44965ad5bed95465ddca3",
      "value": 1
     }
    }
   }
  }
 },
 "nbformat": 4,
 "nbformat_minor": 4
}
